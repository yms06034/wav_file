{
 "cells": [
  {
   "cell_type": "code",
   "execution_count": 2,
   "id": "d92658fe",
   "metadata": {},
   "outputs": [],
   "source": [
    "import struct"
   ]
  },
  {
   "cell_type": "code",
   "execution_count": 11,
   "id": "d657cc9e",
   "metadata": {},
   "outputs": [
    {
     "name": "stderr",
     "output_type": "stream",
     "text": [
      "IOPub data rate exceeded.\n",
      "The notebook server will temporarily stop sending output\n",
      "to the client in order to avoid crashing it.\n",
      "To change this limit, set the config variable\n",
      "`--NotebookApp.iopub_data_rate_limit`.\n",
      "\n",
      "Current values:\n",
      "NotebookApp.iopub_data_rate_limit=1000000.0 (bytes/sec)\n",
      "NotebookApp.rate_limit_window=3.0 (secs)\n",
      "\n"
     ]
    }
   ],
   "source": [
    "with open(\"guitar.wav\", 'rb') as wav_file:\n",
    "    wav = wav_file.read()\n",
    "    data = wav[44:]\n",
    "    print(wav)"
   ]
  },
  {
   "cell_type": "code",
   "execution_count": 4,
   "id": "544e5ec9",
   "metadata": {},
   "outputs": [],
   "source": [
    "# [시작인덱스, 바이트길이, 엔디언]\n",
    "RIFF_chunkID = [0, 4, 'big']\n",
    "RIFF_ChunkSize = [4, 4, 'little']\n",
    "RIFF_Format = [8, 4, 'big']\n",
    "\n",
    "fmt_SubChunk1ID = [12, 4, 'big']\n",
    "fmt_SubChunk1Size = [16, 4, 'little']\n",
    "fmt_AudioFormat = [20, 2, 'little']\n",
    "fmt_NumChannels = [22, 2, 'little']\n",
    "fmt_SampleRate = [24, 4, 'little']\n",
    "fmt_ByteRate = [28, 4, 'little']\n",
    "fmt_BlockAlign = [32, 2, 'little']\n",
    "fmt_BitsPerSample = [34, 2, 'little']\n",
    "\n",
    "data_SubChunk2ID = [36, 4, 'big']\n",
    "data_SubChunk2Size  = [40, 2, 'little']\n",
    "data_data = [44, None, 'little']"
   ]
  },
  {
   "cell_type": "code",
   "execution_count": 6,
   "id": "28449248",
   "metadata": {},
   "outputs": [],
   "source": [
    "def parse(data, info):\n",
    "    start, length, endian = info\n",
    "    \n",
    "    if endian == 'little':\n",
    "        endian_str = '<'\n",
    "    else:\n",
    "        endian_str = '>'\n",
    "    \n",
    "    if length == 2:\n",
    "        length_str = 'H'\n",
    "    elif length == 4:\n",
    "        if endian_str == '>':\n",
    "            length_str = '4s'\n",
    "        else:\n",
    "            length_str = 'I'\n",
    "    else:\n",
    "        return data[start:]\n",
    "    \n",
    "    format_str = endian_str + length_str\n",
    "    data_crop = data[start: start+length]\n",
    "    result = struct.unpack(format_str, data_crop)\n",
    "    return result[0], data_crop"
   ]
  },
  {
   "cell_type": "code",
   "execution_count": 7,
   "id": "1727fe6e",
   "metadata": {},
   "outputs": [
    {
     "name": "stdout",
     "output_type": "stream",
     "text": [
      "RIFF_chunkID: (b'RIFF', b'RIFF')\n",
      "RIFF_chunkSize: (795336, b'\\xc8\"\\x0c\\x00')\n",
      "RIFF_Format: (b'WAVE', b'WAVE')\n"
     ]
    }
   ],
   "source": [
    "RIFF_chunkID = parse(wav, RIFF_chunkID)\n",
    "RIFF_ChunkSize = parse(wav, RIFF_ChunkSize)\n",
    "RIFF_Format = parse(wav, RIFF_Format)\n",
    "\n",
    "print(f'RIFF_chunkID: {RIFF_chunkID}')\n",
    "print(f'RIFF_chunkSize: {RIFF_ChunkSize}')\n",
    "print(f'RIFF_Format: {RIFF_Format}')"
   ]
  },
  {
   "cell_type": "code",
   "execution_count": 8,
   "id": "671f8623",
   "metadata": {},
   "outputs": [
    {
     "name": "stdout",
     "output_type": "stream",
     "text": [
      "fmt_SubChunk1ID: (b'fmt ', b'fmt ')\n",
      "fmt_SubChunk1Size: (16, b'\\x10\\x00\\x00\\x00')\n",
      "fmt_AudioFormat: (1, b'\\x01\\x00')\n",
      "fmt_NumChannels: (2, b'\\x02\\x00')\n",
      "fmt_SampleRate: (44100, b'D\\xac\\x00\\x00')\n",
      "fmt_ByteRate: (176400, b'\\x10\\xb1\\x02\\x00')\n",
      "fmt_BlockAlign: (4, b'\\x04\\x00')\n",
      "fmt_BitsPerSample: (16, b'\\x10\\x00')\n"
     ]
    }
   ],
   "source": [
    "fmt_SubChunk1ID = parse(wav, fmt_SubChunk1ID)\n",
    "fmt_SubChunk1Size = parse(wav, fmt_SubChunk1Size)\n",
    "fmt_AudioFormat = parse(wav, fmt_AudioFormat)\n",
    "fmt_NumChannels = parse(wav, fmt_NumChannels)\n",
    "fmt_SampleRate = parse(wav, fmt_SampleRate)\n",
    "fmt_ByteRate = parse(wav, fmt_ByteRate)\n",
    "fmt_BlockAlign = parse(wav, fmt_BlockAlign)\n",
    "fmt_BitsPerSample = parse(wav, fmt_BitsPerSample)\n",
    "\n",
    "print(f'fmt_SubChunk1ID: {fmt_SubChunk1ID}')\n",
    "print(f'fmt_SubChunk1Size: {fmt_SubChunk1Size}')\n",
    "print(f'fmt_AudioFormat: {fmt_AudioFormat}')\n",
    "print(f'fmt_NumChannels: {fmt_NumChannels}')\n",
    "print(f'fmt_SampleRate: {fmt_SampleRate}')\n",
    "print(f'fmt_ByteRate: {fmt_ByteRate}')\n",
    "print(f'fmt_BlockAlign: {fmt_BlockAlign}')\n",
    "print(f'fmt_BitsPerSample: {fmt_BitsPerSample}')"
   ]
  },
  {
   "cell_type": "code",
   "execution_count": 9,
   "id": "8709d914",
   "metadata": {},
   "outputs": [
    {
     "name": "stdout",
     "output_type": "stream",
     "text": [
      "data_SubChunk2ID: (b'data', b'data')\n",
      "data_SubChunk2Size: (8868, b'\\xa4\"')\n",
      "data_data: b'\\xac\\x00\\x0b\\x00\\xa1\\x00%\\x00\\xa1\\x00\\x1f\\x00\\x94\\x00\\x18\\x00\\x86\\x00\\x1e\\x00'\n",
      "음원데이터 길이: 795300\n"
     ]
    }
   ],
   "source": [
    "data_SubChunk2ID = parse(wav, data_SubChunk2ID)\n",
    "data_SubChunk2Size = parse(wav, data_SubChunk2Size)\n",
    "data_data = parse(wav, data_data)\n",
    "\n",
    "print(f'data_SubChunk2ID: {data_SubChunk2ID}')\n",
    "print(f'data_SubChunk2Size: {data_SubChunk2Size}')\n",
    "print(f'data_data: {data_data[:20]}')\n",
    "print('음원데이터 길이:', len(data_data))"
   ]
  },
  {
   "cell_type": "code",
   "execution_count": 12,
   "id": "88fc5fd6",
   "metadata": {},
   "outputs": [],
   "source": [
    "samples_L = []\n",
    "samples_R = []\n",
    "block_align = 4\n",
    "\n",
    "for i in range(0, len(data), block_align):\n",
    "    sample_block = data[i: i+block_align]\n",
    "    sample = struct.unpack('hh', sample_block)\n",
    "\n",
    "    samples_L.append(sample[0])\n",
    "    samples_R.append(sample[1])"
   ]
  },
  {
   "cell_type": "code",
   "execution_count": 13,
   "id": "32296ec1",
   "metadata": {},
   "outputs": [
    {
     "name": "stdout",
     "output_type": "stream",
     "text": [
      "[172, 161, 161, 148, 134, 137, 126, 97, 72, 54, 50, 60, 66, 93, 130, 146, 156, 167, 160, 170]\n",
      "[11, 37, 31, 24, 30, 32, 32, 39, 47, 57, 78, 80, 65, 71, 66, 60, 68, 55, 50, 64]\n"
     ]
    }
   ],
   "source": [
    "print(samples_L[:20])\n",
    "print(samples_R[:20])"
   ]
  },
  {
   "cell_type": "code",
   "execution_count": 14,
   "id": "410be30d",
   "metadata": {},
   "outputs": [
    {
     "data": {
      "image/png": "[encoded data removed]",
      "text/plain": [
       "<Figure size 640x480 with 2 Axes>"
      ]
     },
     "metadata": {},
     "output_type": "display_data"
    }
   ],
   "source": [
    "import matplotlib.pyplot as plt\n",
    "\n",
    "plt.subplot(2, 1, 1)\n",
    "plt.plot(samples_L)\n",
    "\n",
    "plt.subplot(2, 1, 2)\n",
    "plt.plot(samples_R)\n",
    "plt.show()"
   ]
  },
  {
   "cell_type": "code",
   "execution_count": null,
   "id": "46916c7d",
   "metadata": {},
   "outputs": [],
   "source": []
  }
 ],
 "metadata": {
  "kernelspec": {
   "display_name": "Python 3 (ipykernel)",
   "language": "python",
   "name": "python3"
  },
  "language_info": {
   "codemirror_mode": {
    "name": "ipython",
    "version": 3
   },
   "file_extension": ".py",
   "mimetype": "text/x-python",
   "name": "python",
   "nbconvert_exporter": "python",
   "pygments_lexer": "ipython3",
   "version": "3.11.5"
  }
 },
 "nbformat": 4,
 "nbformat_minor": 5
}
